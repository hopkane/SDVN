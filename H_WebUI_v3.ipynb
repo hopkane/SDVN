{
  "cells": [
    {
      "cell_type": "markdown",
      "metadata": {
        "id": "TNI-mB1xVWht"
      },
      "source": [
        " # [![](https://img.shields.io/badge/Thiết%20kế-stablediffusion.vn-0075ff)](https://stablediffusion.vn) [![](https://img.shields.io/badge/Phiên%20bản-v3.3-0075ff)](https://stablediffusion.vn/update/) [![](https://img.shields.io/badge/All%20Tools-sdvn.me-0075ff)](https://stablediffusion.vn/bo-cong-cu/) [![](https://img.shields.io/badge/Tools-Downloads-green)](https://colab.research.google.com/github/StableDiffusionVN/SDVN-WebUI/blob/main/SDVN_Download_tools.ipynb) [![](https://img.shields.io/badge/Check-Gradio%20Sever-orange)](https://status.gradio.app)  [![](https://img.shields.io/badge/Thư%20viện-Tài%20nguyên-green)](https://bit.ly/sdvn-lib) [![](https://img.shields.io/badge/Khoá%20học-SD%20Flux-red)](https://hungdiffusion.com/) [![](https://img.shields.io/badge/Group-SDVN-0075ff)](https://www.facebook.com/groups/stablediffusion.vn) [![](https://img.shields.io/discord/813085864355037235?color=blue&label=Discord&logo=Discord)](https://discord.gg/5SEtApPeyG)\n",
        "___\n",
        "#### 💡 Tools bổ trợ:"
      ]
    },
    {
      "cell_type": "code",
      "execution_count": null,
      "metadata": {
        "cellView": "form",
        "id": "6AgOYhVDvLIm"
      },
      "outputs": [],
      "source": [
        "#@title ⚡️ Node ComfyUI\n",
        "\n",
        "#@markdown [![](https://img.shields.io/badge/Wiki-ComfyNode-fca311)](https://ltdrdata.github.io/)\n",
        "\n",
        "#ComfyUI Note\n",
        "#https://github.com/TheMistoAI/ComfyUI-Anyline\n",
        "Active =False #@param {type:\"boolean\"}\n",
        "CustomNote = \"https://github.com/comfyanonymous/ComfyUI_bitsandbytes_NF4\" #@param {type:\"string\"}\n",
        "\n",
        "if Active == True :\n",
        "  %cd /content/ComfyUI/custom_nodes\n",
        "  !git clone {CustomNote}\n",
        "  last_segment = CustomNote.rsplit('/', 1)[-1].strip()\n",
        "  !pip install -r {last_segment}/requirements.txt\n",
        "  %cd /content/ComfyUI"
      ]
    },
    {
      "cell_type": "code",
      "execution_count": null,
      "metadata": {
        "cellView": "form",
        "id": "vDI_Capbu5le"
      },
      "outputs": [],
      "source": [
        "#@title ⚡️ DownloadFile\n",
        "\n",
        "#@markdown [![](https://img.shields.io/badge/Flux-Toàn%20tập-fca311)](https://huggingface.co/StableDiffusionVN/Flux)\n",
        "\n",
        "#ComfyUI Note\n",
        "Download =False #@param {type:\"boolean\"}\n",
        "Link = \"https://huggingface.co/StableDiffusionVN/Flux/resolve/main/Controlnet/Instant_flux-union.safetensors\" #@param {type:\"string\"}\n",
        "Name = \"Instant_flux-union.safetensors\" #@param {type:\"string\"}\n",
        "Path = \"/content/ComfyUI/models/controlnet\" #@param {type:\"string\"}\n",
        "\n",
        "if Download ==True :\n",
        "  aria_down(Link,Path,Name)"
      ]
    },
    {
      "cell_type": "markdown",
      "metadata": {
        "id": "iz1atqKVsDdh"
      },
      "source": [
        "# 🚀 ComfyUI\n",
        "\n",
        "`🟡 Kích hoạt mặc định | FastMode - Bỏ chọn FastMode để tải đầy đủ tài nguyên hoặc chọn Preset phù hợp`"
      ]
    },
    {
      "cell_type": "code",
      "execution_count": null,
      "metadata": {
        "cellView": "form",
        "id": "tKU6gPdMVWh4"
      },
      "outputs": [],
      "source": [
        "#@title # ⚙️ 1.Tuỳ chọn phiên bản\n",
        "# @markdown Đã chọn mặc định sẵn ComfyUI\n",
        "\n",
        "DriveSyn = True #@param {type:\"boolean\"}\n",
        "Setting_Preset = \"⚡️ Comfy_flux_fast(3min)\" #@param [\"⚡️ Comfy_flux_fast(3min)\", \"☕️ Comfy_flux_base(7min)\",\"☕️ Comfy_flux_full(9min)\", \"🎨 Comfy_flux_photo(12min)\"]\n",
        "#Folder Option\n",
        "if DriveSyn:\n",
        "  from google.colab import drive\n",
        "  drive.mount('/content/drive')\n",
        "else:\n",
        "  User_folder = \"/content/SD-Data\"\n",
        "\n",
        "#Config\n",
        "SDVNFolder = '/content/SDVN-WebUI'\n",
        "\n",
        "if 'Version' not in globals():\n",
        "  !git clone https://github.com/StableDiffusionVN/SDVN-WebUI {SDVNFolder}\n",
        "  %env TF_CPP_MIN_LOG_LEVEL=1\n",
        "  %env LD_PRELOAD={SDVNFolder}/libtcmalloc_minimal.so.4\n",
        "  !sudo apt-get install aria2\n",
        "  !wget -c https://github.com/cloudflare/cloudflared/releases/latest/download/cloudflared-linux-amd64.deb\n",
        "  !dpkg -i cloudflared-linux-amd64.deb\n",
        "  !curl -sL https://tunnelto.dev/install.sh | sh\n",
        "  # !npm install -g localtunnel\n",
        "  test = 'test'\n",
        "\n",
        "#Option\n",
        "FastMode = True #@param {type:\"boolean\"}\n",
        "UI_Version = \"✨ ComfyUI\" #@param [\"✨ ComfyUI\",\"✨ Forge-v2\",\"✨ Automatic\",\"Forge\",\"Fooocus\",\"Kohya\",\"FluxGym\", \"AutoRetouch\"]\n",
        "OptionMode = \"🍺 full\" # @param [\"☕️ base\",\"🍺 full\",\"📸 +photo\",\"🎥 +video\",\"👨🏻‍💻 +dev\"] {\"allow-input\":true}\n",
        "Controlnet = \"+Flux\" # @param [\"none\",\"base\",\"+SD15\",\"+SDXL\",\"+Flux\",\"User_list\"] {\"allow-input\":true}\n",
        "\n",
        "SD15model = \"\"\n",
        "SDXLmodel = \"\"\n",
        "Fluxmodel = \"\"\n",
        "SDVNmodel = \"\"\n",
        "InpaintMd = \"\"\n",
        "\n",
        "#Install\n",
        "%run /content/SDVN-WebUI/Script.ipynb"
      ]
    },
    {
      "cell_type": "code",
      "execution_count": null,
      "metadata": {
        "cellView": "form",
        "id": "izo7cpPiVWh8"
      },
      "outputs": [],
      "source": [
        "#@title # ⌛️ 2.RUN\n",
        "DriveLib = True\n",
        "CommandLine = \"\" #@param {type:\"string\"}\n",
        "xformers_check()\n",
        "install_custom()\n",
        "import time\n",
        "run_ver(Version,CommandLine)"
      ]
    }
  ],
  "metadata": {
    "accelerator": "GPU",
    "colab": {
      "collapsed_sections": [
        "TNI-mB1xVWht"
      ],
      "gpuType": "A100",
      "machine_shape": "hm",
      "private_outputs": true,
      "provenance": []
    },
    "kernelspec": {
      "display_name": "Python 3",
      "name": "python3"
    },
    "language_info": {
      "name": "python"
    }
  },
  "nbformat": 4,
  "nbformat_minor": 0
}